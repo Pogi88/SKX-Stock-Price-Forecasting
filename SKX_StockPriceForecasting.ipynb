{
  "nbformat": 4,
  "nbformat_minor": 0,
  "metadata": {
    "colab": {
      "provenance": []
    },
    "kernelspec": {
      "name": "ir",
      "display_name": "R"
    },
    "language_info": {
      "name": "R"
    }
  },
  "cells": [
    {
      "cell_type": "markdown",
      "source": [
        "# **Analysis and Forecasting of Skechers U.S.A., Inc. (SKX) Stock Prices**\n",
        "\n",
        "### Univariate Time Series Analysis\n",
        "\n",
        "* **Time Period Covered by the Data:** November 26, 2020 - February 9, 2024 - daily data\n",
        "* **Date of Download:** February 15, 2024\n",
        "* **Access Link:**  https://finance.yahoo.com/quote/SKX/history?period1=1606348800&period2=1700524800&interval=1d&filter=history&frequency=1d&includeAdjustedClose=true\n",
        "\n",
        "\n",
        "Created by: Boglárka Póra"
      ],
      "metadata": {
        "id": "oUPazTzaddpe"
      }
    },
    {
      "cell_type": "code",
      "execution_count": null,
      "metadata": {
        "id": "sO7kod1ULknX"
      },
      "outputs": [],
      "source": [
        "rm(list = ls())\n",
        "graphics.off()"
      ]
    },
    {
      "cell_type": "markdown",
      "source": [
        "The first step is to install the necessary packages and then import these libraries so that they are available in the environment."
      ],
      "metadata": {
        "id": "YbnCXBo7M7DL"
      }
    },
    {
      "cell_type": "code",
      "source": [
        "install.packages('strucchange')\n",
        "install.packages('changepoint')\n",
        "install.packages('fpp3')\n",
        "install.packages('tidyverse')\n",
        "install.packages('rsample')\n",
        "install.packages('forecast')\n",
        "install.packages('readr')\n",
        "install.packages('ggplot2')\n",
        "install.packages('plotly')\n",
        "install.packages('stats')\n",
        "install.packages('rsample')\n",
        "install.packages('gridExtra')\n",
        "install.packages('aTSA')\n",
        "install.packages('urca')\n",
        "install.packages('reshape')\n",
        "install.packages('dplyr')\n",
        "install.packages('mFilter')\n",
        "install.packages('timetk')\n",
        "install.packages('ggpubr')\n",
        "install.packages('tidymodels')\n",
        "install.packages('tidyquant')"
      ],
      "metadata": {
        "id": "pwMPLRT0No0X",
        "colab": {
          "base_uri": "https://localhost:8080/"
        },
        "outputId": "e173a5f6-9075-4851-ce07-8f4a2f27a74f"
      },
      "execution_count": null,
      "outputs": [
        {
          "output_type": "stream",
          "name": "stderr",
          "text": [
            "Installing package into ‘/usr/local/lib/R/site-library’\n",
            "(as ‘lib’ is unspecified)\n",
            "\n",
            "also installing the dependencies ‘zoo’, ‘sandwich’\n",
            "\n",
            "\n",
            "Installing package into ‘/usr/local/lib/R/site-library’\n",
            "(as ‘lib’ is unspecified)\n",
            "\n",
            "Installing package into ‘/usr/local/lib/R/site-library’\n",
            "(as ‘lib’ is unspecified)\n",
            "\n",
            "also installing the dependencies ‘numDeriv’, ‘quadprog’, ‘warp’, ‘BH’, ‘distributional’, ‘progressr’, ‘ggdist’, ‘slider’, ‘anytime’, ‘fable’, ‘fabletools’, ‘feasts’, ‘tsibble’, ‘tsibbledata’\n",
            "\n",
            "\n",
            "Installing package into ‘/usr/local/lib/R/site-library’\n",
            "(as ‘lib’ is unspecified)\n",
            "\n",
            "Installing package into ‘/usr/local/lib/R/site-library’\n",
            "(as ‘lib’ is unspecified)\n",
            "\n",
            "also installing the dependencies ‘listenv’, ‘parallelly’, ‘future’, ‘globals’, ‘furrr’\n",
            "\n",
            "\n",
            "Installing package into ‘/usr/local/lib/R/site-library’\n",
            "(as ‘lib’ is unspecified)\n",
            "\n",
            "also installing the dependencies ‘xts’, ‘TTR’, ‘quantmod’, ‘fracdiff’, ‘lmtest’, ‘timeDate’, ‘tseries’, ‘urca’, ‘RcppArmadillo’\n",
            "\n",
            "\n",
            "Installing package into ‘/usr/local/lib/R/site-library’\n",
            "(as ‘lib’ is unspecified)\n",
            "\n",
            "Installing package into ‘/usr/local/lib/R/site-library’\n",
            "(as ‘lib’ is unspecified)\n",
            "\n",
            "Installing package into ‘/usr/local/lib/R/site-library’\n",
            "(as ‘lib’ is unspecified)\n",
            "\n",
            "also installing the dependencies ‘lazyeval’, ‘crosstalk’\n",
            "\n",
            "\n",
            "Installing package into ‘/usr/local/lib/R/site-library’\n",
            "(as ‘lib’ is unspecified)\n",
            "\n",
            "Warning message:\n",
            "“package ‘stats’ is a base package, and should not be updated”\n",
            "Installing package into ‘/usr/local/lib/R/site-library’\n",
            "(as ‘lib’ is unspecified)\n",
            "\n",
            "Installing package into ‘/usr/local/lib/R/site-library’\n",
            "(as ‘lib’ is unspecified)\n",
            "\n",
            "Installing package into ‘/usr/local/lib/R/site-library’\n",
            "(as ‘lib’ is unspecified)\n",
            "\n",
            "Installing package into ‘/usr/local/lib/R/site-library’\n",
            "(as ‘lib’ is unspecified)\n",
            "\n",
            "Installing package into ‘/usr/local/lib/R/site-library’\n",
            "(as ‘lib’ is unspecified)\n",
            "\n",
            "also installing the dependency ‘plyr’\n",
            "\n",
            "\n",
            "Installing package into ‘/usr/local/lib/R/site-library’\n",
            "(as ‘lib’ is unspecified)\n",
            "\n",
            "Installing package into ‘/usr/local/lib/R/site-library’\n",
            "(as ‘lib’ is unspecified)\n",
            "\n",
            "Installing package into ‘/usr/local/lib/R/site-library’\n",
            "(as ‘lib’ is unspecified)\n",
            "\n",
            "also installing the dependencies ‘shape’, ‘future.apply’, ‘SQUAREM’, ‘diagram’, ‘lava’, ‘prodlim’, ‘clock’, ‘gower’, ‘hardhat’, ‘ipred’, ‘RcppRoll’, ‘recipes’, ‘padr’, ‘tsfeatures’\n",
            "\n",
            "\n",
            "Installing package into ‘/usr/local/lib/R/site-library’\n",
            "(as ‘lib’ is unspecified)\n",
            "\n",
            "also installing the dependencies ‘Deriv’, ‘microbenchmark’, ‘doBy’, ‘SparseM’, ‘MatrixModels’, ‘minqa’, ‘nloptr’, ‘RcppEigen’, ‘carData’, ‘abind’, ‘pbkrtest’, ‘quantreg’, ‘lme4’, ‘corrplot’, ‘car’, ‘ggrepel’, ‘ggsci’, ‘cowplot’, ‘ggsignif’, ‘polynom’, ‘rstatix’\n",
            "\n",
            "\n",
            "Installing package into ‘/usr/local/lib/R/site-library’\n",
            "(as ‘lib’ is unspecified)\n",
            "\n",
            "also installing the dependencies ‘iterators’, ‘lhs’, ‘DiceDesign’, ‘sfd’, ‘patchwork’, ‘doFuture’, ‘foreach’, ‘GPfit’, ‘modelenv’, ‘dials’, ‘infer’, ‘modeldata’, ‘parsnip’, ‘tune’, ‘workflows’, ‘workflowsets’, ‘yardstick’\n",
            "\n",
            "\n",
            "Installing package into ‘/usr/local/lib/R/site-library’\n",
            "(as ‘lib’ is unspecified)\n",
            "\n",
            "also installing the dependency ‘PerformanceAnalytics’\n",
            "\n",
            "\n"
          ]
        }
      ]
    },
    {
      "cell_type": "code",
      "source": [
        "library(strucchange)\n",
        "library(changepoint)\n",
        "library(fpp3)\n",
        "library(tidyverse)\n",
        "library(rsample)\n",
        "library(forecast)\n",
        "library(readr)\n",
        "library(ggplot2)\n",
        "library(plotly)\n",
        "library(stats)\n",
        "library(rsample)\n",
        "library(gridExtra)\n",
        "library(aTSA)\n",
        "library(urca)\n",
        "library(reshape)\n",
        "library(dplyr)\n",
        "library(mFilter)\n",
        "library(timetk)\n",
        "library(ggpubr)\n",
        "library(tidymodels)\n",
        "library(tidyquant)"
      ],
      "metadata": {
        "id": "FL_jAzCuMw6G",
        "colab": {
          "base_uri": "https://localhost:8080/"
        },
        "outputId": "74256b89-acb4-4f64-f0fd-e9597adec774"
      },
      "execution_count": null,
      "outputs": [
        {
          "output_type": "stream",
          "name": "stderr",
          "text": [
            "Loading required package: zoo\n",
            "\n",
            "\n",
            "Attaching package: ‘zoo’\n",
            "\n",
            "\n",
            "The following objects are masked from ‘package:base’:\n",
            "\n",
            "    as.Date, as.Date.numeric\n",
            "\n",
            "\n",
            "Loading required package: sandwich\n",
            "\n",
            "Successfully loaded changepoint package version 2.2.4\n",
            " See NEWS for details of changes.\n",
            "\n",
            "Registered S3 method overwritten by 'tsibble':\n",
            "  method               from \n",
            "  as_tibble.grouped_df dplyr\n",
            "\n",
            "── \u001b[1mAttaching packages\u001b[22m ──────────────────────────────────────────── fpp3 1.0.0 ──\n",
            "\n",
            "\u001b[32m✔\u001b[39m \u001b[34mtibble     \u001b[39m 3.2.1     \u001b[32m✔\u001b[39m \u001b[34mtsibble    \u001b[39m 1.1.5\n",
            "\u001b[32m✔\u001b[39m \u001b[34mdplyr      \u001b[39m 1.1.4     \u001b[32m✔\u001b[39m \u001b[34mtsibbledata\u001b[39m 0.4.1\n",
            "\u001b[32m✔\u001b[39m \u001b[34mtidyr      \u001b[39m 1.3.1     \u001b[32m✔\u001b[39m \u001b[34mfeasts     \u001b[39m 0.3.2\n",
            "\u001b[32m✔\u001b[39m \u001b[34mlubridate  \u001b[39m 1.9.3     \u001b[32m✔\u001b[39m \u001b[34mfable      \u001b[39m 0.3.4\n",
            "\u001b[32m✔\u001b[39m \u001b[34mggplot2    \u001b[39m 3.5.1     \u001b[32m✔\u001b[39m \u001b[34mfabletools \u001b[39m 0.4.2\n",
            "\n",
            "── \u001b[1mConflicts\u001b[22m ───────────────────────────────────────────────── fpp3_conflicts ──\n",
            "\u001b[31m✖\u001b[39m \u001b[34mlubridate\u001b[39m::\u001b[32mdate()\u001b[39m    masks \u001b[34mbase\u001b[39m::date()\n",
            "\u001b[31m✖\u001b[39m \u001b[34mdplyr\u001b[39m::\u001b[32mfilter()\u001b[39m      masks \u001b[34mstats\u001b[39m::filter()\n",
            "\u001b[31m✖\u001b[39m \u001b[34mtsibble\u001b[39m::\u001b[32mindex()\u001b[39m     masks \u001b[34mzoo\u001b[39m::index()\n",
            "\u001b[31m✖\u001b[39m \u001b[34mtsibble\u001b[39m::\u001b[32mintersect()\u001b[39m masks \u001b[34mbase\u001b[39m::intersect()\n",
            "\u001b[31m✖\u001b[39m \u001b[34mtsibble\u001b[39m::\u001b[32minterval()\u001b[39m  masks \u001b[34mlubridate\u001b[39m::interval()\n",
            "\u001b[31m✖\u001b[39m \u001b[34mdplyr\u001b[39m::\u001b[32mlag()\u001b[39m         masks \u001b[34mstats\u001b[39m::lag()\n",
            "\u001b[31m✖\u001b[39m \u001b[34mtsibble\u001b[39m::\u001b[32msetdiff()\u001b[39m   masks \u001b[34mbase\u001b[39m::setdiff()\n",
            "\u001b[31m✖\u001b[39m \u001b[34mtsibble\u001b[39m::\u001b[32munion()\u001b[39m     masks \u001b[34mbase\u001b[39m::union()\n",
            "\n",
            "── \u001b[1mAttaching core tidyverse packages\u001b[22m ──────────────────────── tidyverse 2.0.0 ──\n",
            "\u001b[32m✔\u001b[39m \u001b[34mforcats\u001b[39m 1.0.0     \u001b[32m✔\u001b[39m \u001b[34mreadr  \u001b[39m 2.1.5\n",
            "\u001b[32m✔\u001b[39m \u001b[34mpurrr  \u001b[39m 1.0.2     \u001b[32m✔\u001b[39m \u001b[34mstringr\u001b[39m 1.5.1\n",
            "── \u001b[1mConflicts\u001b[22m ────────────────────────────────────────── tidyverse_conflicts() ──\n",
            "\u001b[31m✖\u001b[39m \u001b[34mstringr\u001b[39m::\u001b[32mboundary()\u001b[39m masks \u001b[34mstrucchange\u001b[39m::boundary()\n",
            "\u001b[31m✖\u001b[39m \u001b[34mdplyr\u001b[39m::\u001b[32mfilter()\u001b[39m     masks \u001b[34mstats\u001b[39m::filter()\n",
            "\u001b[31m✖\u001b[39m \u001b[34mtsibble\u001b[39m::\u001b[32minterval()\u001b[39m masks \u001b[34mlubridate\u001b[39m::interval()\n",
            "\u001b[31m✖\u001b[39m \u001b[34mdplyr\u001b[39m::\u001b[32mlag()\u001b[39m        masks \u001b[34mstats\u001b[39m::lag()\n",
            "\u001b[36mℹ\u001b[39m Use the conflicted package (\u001b[3m\u001b[34m<http://conflicted.r-lib.org/>\u001b[39m\u001b[23m) to force all conflicts to become errors\n",
            "Registered S3 method overwritten by 'quantmod':\n",
            "  method            from\n",
            "  as.zoo.data.frame zoo \n",
            "\n",
            "\n",
            "Attaching package: ‘plotly’\n",
            "\n",
            "\n",
            "The following object is masked from ‘package:ggplot2’:\n",
            "\n",
            "    last_plot\n",
            "\n",
            "\n",
            "The following object is masked from ‘package:stats’:\n",
            "\n",
            "    filter\n",
            "\n",
            "\n",
            "The following object is masked from ‘package:graphics’:\n",
            "\n",
            "    layout\n",
            "\n",
            "\n",
            "\n",
            "Attaching package: ‘gridExtra’\n",
            "\n",
            "\n",
            "The following object is masked from ‘package:dplyr’:\n",
            "\n",
            "    combine\n",
            "\n",
            "\n",
            "\n",
            "Attaching package: ‘aTSA’\n",
            "\n",
            "\n",
            "The following object is masked from ‘package:forecast’:\n",
            "\n",
            "    forecast\n",
            "\n",
            "\n",
            "The following objects are masked from ‘package:fabletools’:\n",
            "\n",
            "    estimate, forecast\n",
            "\n",
            "\n",
            "The following object is masked from ‘package:graphics’:\n",
            "\n",
            "    identify\n",
            "\n",
            "\n",
            "\n",
            "Attaching package: ‘reshape’\n",
            "\n",
            "\n",
            "The following object is masked from ‘package:plotly’:\n",
            "\n",
            "    rename\n",
            "\n",
            "\n",
            "The following object is masked from ‘package:lubridate’:\n",
            "\n",
            "    stamp\n",
            "\n",
            "\n",
            "The following objects are masked from ‘package:tidyr’:\n",
            "\n",
            "    expand, smiths\n",
            "\n",
            "\n",
            "The following object is masked from ‘package:dplyr’:\n",
            "\n",
            "    rename\n",
            "\n",
            "\n",
            "\n",
            "Attaching package: ‘ggpubr’\n",
            "\n",
            "\n",
            "The following object is masked from ‘package:forecast’:\n",
            "\n",
            "    gghistogram\n",
            "\n",
            "\n",
            "── \u001b[1mAttaching packages\u001b[22m ────────────────────────────────────── tidymodels 1.2.0 ──\n",
            "\n",
            "\u001b[32m✔\u001b[39m \u001b[34mbroom       \u001b[39m 1.0.6     \u001b[32m✔\u001b[39m \u001b[34mrecipes     \u001b[39m 1.1.0\n",
            "\u001b[32m✔\u001b[39m \u001b[34mdials       \u001b[39m 1.3.0     \u001b[32m✔\u001b[39m \u001b[34mtune        \u001b[39m 1.2.1\n",
            "\u001b[32m✔\u001b[39m \u001b[34minfer       \u001b[39m 1.0.7     \u001b[32m✔\u001b[39m \u001b[34mworkflows   \u001b[39m 1.1.4\n",
            "\u001b[32m✔\u001b[39m \u001b[34mmodeldata   \u001b[39m 1.4.0     \u001b[32m✔\u001b[39m \u001b[34mworkflowsets\u001b[39m 1.1.0\n",
            "\u001b[32m✔\u001b[39m \u001b[34mparsnip     \u001b[39m 1.2.1     \u001b[32m✔\u001b[39m \u001b[34myardstick   \u001b[39m 1.3.1\n",
            "\n",
            "── \u001b[1mConflicts\u001b[22m ───────────────────────────────────────── tidymodels_conflicts() ──\n",
            "\u001b[31m✖\u001b[39m \u001b[34myardstick\u001b[39m::\u001b[32maccuracy()\u001b[39m masks \u001b[34mforecast\u001b[39m::accuracy(), \u001b[34mfabletools\u001b[39m::accuracy()\n",
            "\u001b[31m✖\u001b[39m \u001b[34mgridExtra\u001b[39m::\u001b[32mcombine()\u001b[39m  masks \u001b[34mdplyr\u001b[39m::combine()\n",
            "\u001b[31m✖\u001b[39m \u001b[34mscales\u001b[39m::\u001b[32mdiscard()\u001b[39m     masks \u001b[34mpurrr\u001b[39m::discard()\n",
            "\u001b[31m✖\u001b[39m \u001b[34mreshape\u001b[39m::\u001b[32mexpand()\u001b[39m     masks \u001b[34mtidyr\u001b[39m::expand()\n",
            "\u001b[31m✖\u001b[39m \u001b[34mplotly\u001b[39m::\u001b[32mfilter()\u001b[39m      masks \u001b[34mdplyr\u001b[39m::filter(), \u001b[34mstats\u001b[39m::filter()\n",
            "\u001b[31m✖\u001b[39m \u001b[34mrecipes\u001b[39m::\u001b[32mfixed()\u001b[39m      masks \u001b[34mstringr\u001b[39m::fixed()\n",
            "\u001b[31m✖\u001b[39m \u001b[34minfer\u001b[39m::\u001b[32mgenerate()\u001b[39m     masks \u001b[34mfabletools\u001b[39m::generate()\n",
            "\u001b[31m✖\u001b[39m \u001b[34minfer\u001b[39m::\u001b[32mhypothesize()\u001b[39m  masks \u001b[34mfabletools\u001b[39m::hypothesize()\n",
            "\u001b[31m✖\u001b[39m \u001b[34mdplyr\u001b[39m::\u001b[32mlag()\u001b[39m          masks \u001b[34mstats\u001b[39m::lag()\n",
            "\u001b[31m✖\u001b[39m \u001b[34mparsnip\u001b[39m::\u001b[32mnull_model()\u001b[39m masks \u001b[34mfabletools\u001b[39m::null_model()\n",
            "\u001b[31m✖\u001b[39m \u001b[34mreshape\u001b[39m::\u001b[32mrename()\u001b[39m     masks \u001b[34mplotly\u001b[39m::rename(), \u001b[34mdplyr\u001b[39m::rename()\n",
            "\u001b[31m✖\u001b[39m \u001b[34myardstick\u001b[39m::\u001b[32mspec()\u001b[39m     masks \u001b[34mreadr\u001b[39m::spec()\n",
            "\u001b[31m✖\u001b[39m \u001b[34mrecipes\u001b[39m::\u001b[32mstep()\u001b[39m       masks \u001b[34mstats\u001b[39m::step()\n",
            "\u001b[34m•\u001b[39m Use \u001b[32mtidymodels_prefer()\u001b[39m to resolve common conflicts.\n",
            "\n",
            "── \u001b[1mAttaching core tidyquant packages\u001b[22m ──────────────────────── tidyquant 1.0.8 ──\n",
            "\u001b[32m✔\u001b[39m \u001b[34mPerformanceAnalytics\u001b[39m 2.0.4      \u001b[32m✔\u001b[39m \u001b[34mTTR                 \u001b[39m 0.24.4\n",
            "\u001b[32m✔\u001b[39m \u001b[34mquantmod            \u001b[39m 0.4.26     \u001b[32m✔\u001b[39m \u001b[34mxts                 \u001b[39m 0.14.0\n",
            "── \u001b[1mConflicts\u001b[22m ────────────────────────────────────────── tidyquant_conflicts() ──\n",
            "\u001b[31m✖\u001b[39m \u001b[34mzoo\u001b[39m::\u001b[32mas.Date()\u001b[39m                 masks \u001b[34mbase\u001b[39m::as.Date()\n",
            "\u001b[31m✖\u001b[39m \u001b[34mzoo\u001b[39m::\u001b[32mas.Date.numeric()\u001b[39m         masks \u001b[34mbase\u001b[39m::as.Date.numeric()\n",
            "\u001b[31m✖\u001b[39m \u001b[34mstringr\u001b[39m::\u001b[32mboundary()\u001b[39m            masks \u001b[34mstrucchange\u001b[39m::boundary()\n",
            "\u001b[31m✖\u001b[39m \u001b[34mscales\u001b[39m::\u001b[32mcol_factor()\u001b[39m           masks \u001b[34mreadr\u001b[39m::col_factor()\n",
            "\u001b[31m✖\u001b[39m \u001b[34mgridExtra\u001b[39m::\u001b[32mcombine()\u001b[39m           masks \u001b[34mdplyr\u001b[39m::combine()\n",
            "\u001b[31m✖\u001b[39m \u001b[34mscales\u001b[39m::\u001b[32mdiscard()\u001b[39m              masks \u001b[34mpurrr\u001b[39m::discard()\n",
            "\u001b[31m✖\u001b[39m \u001b[34mreshape\u001b[39m::\u001b[32mexpand()\u001b[39m              masks \u001b[34mtidyr\u001b[39m::expand()\n",
            "\u001b[31m✖\u001b[39m \u001b[34mplotly\u001b[39m::\u001b[32mfilter()\u001b[39m               masks \u001b[34mdplyr\u001b[39m::filter(), \u001b[34mstats\u001b[39m::filter()\n",
            "\u001b[31m✖\u001b[39m \u001b[34mxts\u001b[39m::\u001b[32mfirst()\u001b[39m                   masks \u001b[34mdplyr\u001b[39m::first()\n",
            "\u001b[31m✖\u001b[39m \u001b[34mrecipes\u001b[39m::\u001b[32mfixed()\u001b[39m               masks \u001b[34mstringr\u001b[39m::fixed()\n",
            "\u001b[31m✖\u001b[39m \u001b[34mtsibble\u001b[39m::\u001b[32mindex()\u001b[39m               masks \u001b[34mzoo\u001b[39m::index()\n",
            "\u001b[31m✖\u001b[39m \u001b[34mtsibble\u001b[39m::\u001b[32minterval()\u001b[39m            masks \u001b[34mlubridate\u001b[39m::interval()\n",
            "\u001b[31m✖\u001b[39m \u001b[34mdplyr\u001b[39m::\u001b[32mlag()\u001b[39m                   masks \u001b[34mstats\u001b[39m::lag()\n",
            "\u001b[31m✖\u001b[39m \u001b[34mxts\u001b[39m::\u001b[32mlast()\u001b[39m                    masks \u001b[34mdplyr\u001b[39m::last()\n",
            "\u001b[31m✖\u001b[39m \u001b[34mPerformanceAnalytics\u001b[39m::\u001b[32mlegend()\u001b[39m masks \u001b[34mgraphics\u001b[39m::legend()\n",
            "\u001b[31m✖\u001b[39m \u001b[34mTTR\u001b[39m::\u001b[32mmomentum()\u001b[39m                masks \u001b[34mdials\u001b[39m::momentum()\n",
            "\u001b[31m✖\u001b[39m \u001b[34mreshape\u001b[39m::\u001b[32mrename()\u001b[39m              masks \u001b[34mplotly\u001b[39m::rename(), \u001b[34mdplyr\u001b[39m::rename()\n",
            "\u001b[31m✖\u001b[39m \u001b[34myardstick\u001b[39m::\u001b[32mspec()\u001b[39m              masks \u001b[34mreadr\u001b[39m::spec()\n",
            "\u001b[31m✖\u001b[39m \u001b[34mreshape\u001b[39m::\u001b[32mstamp()\u001b[39m               masks \u001b[34mlubridate\u001b[39m::stamp()\n",
            "\u001b[31m✖\u001b[39m \u001b[34mquantmod\u001b[39m::\u001b[32msummary()\u001b[39m            masks \u001b[34murca\u001b[39m::summary(), \u001b[34mchangepoint\u001b[39m::summary(), \u001b[34mbase\u001b[39m::summary()\n",
            "\u001b[31m✖\u001b[39m \u001b[34mtidyquant\u001b[39m::\u001b[32mVAR()\u001b[39m               masks \u001b[34mfable\u001b[39m::VAR()\n",
            "\u001b[36mℹ\u001b[39m Use the conflicted package (\u001b[3m\u001b[34m<http://conflicted.r-lib.org/>\u001b[39m\u001b[23m) to force all conflicts to become errors\n",
            "\n",
            "Attaching package: ‘tidyquant’\n",
            "\n",
            "\n",
            "The following object is masked from ‘package:timetk’:\n",
            "\n",
            "    FANG\n",
            "\n",
            "\n",
            "The following object is masked from ‘package:fable’:\n",
            "\n",
            "    VAR\n",
            "\n",
            "\n"
          ]
        }
      ]
    },
    {
      "cell_type": "markdown",
      "source": [
        "###**Loading, Transforming, and Plotting Time Series Data**"
      ],
      "metadata": {
        "id": "C-0HEysOOnKs"
      }
    },
    {
      "cell_type": "code",
      "source": [
        "skx <-  tq_get(\"SKX\",\n",
        "                from = \"2020-11-26\",\n",
        "                to = \"2024-02-10\") %>%\n",
        "  dplyr::select(date, adjusted)\n",
        "head(skx)"
      ],
      "metadata": {
        "colab": {
          "base_uri": "https://localhost:8080/",
          "height": 286
        },
        "id": "RPgkm9C9Nmks",
        "outputId": "04ad4740-d28f-4b80-ffa8-3ea0b562d80a"
      },
      "execution_count": null,
      "outputs": [
        {
          "output_type": "display_data",
          "data": {
            "text/html": [
              "<table class=\"dataframe\">\n",
              "<caption>A tibble: 6 × 2</caption>\n",
              "<thead>\n",
              "\t<tr><th scope=col>date</th><th scope=col>adjusted</th></tr>\n",
              "\t<tr><th scope=col>&lt;date&gt;</th><th scope=col>&lt;dbl&gt;</th></tr>\n",
              "</thead>\n",
              "<tbody>\n",
              "\t<tr><td>2020-11-27</td><td>34.49</td></tr>\n",
              "\t<tr><td>2020-11-30</td><td>33.47</td></tr>\n",
              "\t<tr><td>2020-12-01</td><td>33.71</td></tr>\n",
              "\t<tr><td>2020-12-02</td><td>33.08</td></tr>\n",
              "\t<tr><td>2020-12-03</td><td>34.22</td></tr>\n",
              "\t<tr><td>2020-12-04</td><td>36.70</td></tr>\n",
              "</tbody>\n",
              "</table>\n"
            ],
            "text/markdown": "\nA tibble: 6 × 2\n\n| date &lt;date&gt; | adjusted &lt;dbl&gt; |\n|---|---|\n| 2020-11-27 | 34.49 |\n| 2020-11-30 | 33.47 |\n| 2020-12-01 | 33.71 |\n| 2020-12-02 | 33.08 |\n| 2020-12-03 | 34.22 |\n| 2020-12-04 | 36.70 |\n\n",
            "text/latex": "A tibble: 6 × 2\n\\begin{tabular}{ll}\n date & adjusted\\\\\n <date> & <dbl>\\\\\n\\hline\n\t 2020-11-27 & 34.49\\\\\n\t 2020-11-30 & 33.47\\\\\n\t 2020-12-01 & 33.71\\\\\n\t 2020-12-02 & 33.08\\\\\n\t 2020-12-03 & 34.22\\\\\n\t 2020-12-04 & 36.70\\\\\n\\end{tabular}\n",
            "text/plain": [
              "  date       adjusted\n",
              "1 2020-11-27 34.49   \n",
              "2 2020-11-30 33.47   \n",
              "3 2020-12-01 33.71   \n",
              "4 2020-12-02 33.08   \n",
              "5 2020-12-03 34.22   \n",
              "6 2020-12-04 36.70   "
            ]
          },
          "metadata": {}
        }
      ]
    },
    {
      "cell_type": "code",
      "source": [
        "tail(skx)"
      ],
      "metadata": {
        "id": "MTWrIBotU8ah"
      },
      "execution_count": null,
      "outputs": []
    },
    {
      "cell_type": "markdown",
      "source": [
        "Then, they need to be converted into a tsibble object: the [1D] indicates that the time series contains daily data."
      ],
      "metadata": {
        "id": "aM01nzHVYouR"
      }
    },
    {
      "cell_type": "code",
      "source": [
        "skx <- skx %>%\n",
        "  as_tsibble(index = date, key = adjusted)\n",
        "head(skx)"
      ],
      "metadata": {
        "id": "K11fe63hVJ2b"
      },
      "execution_count": null,
      "outputs": []
    },
    {
      "cell_type": "markdown",
      "source": [
        "The next step is to visualize the trends of the different variables, explore the data more deeply, and possibly clean the data."
      ],
      "metadata": {
        "id": "KV_9hq9CY3FY"
      }
    },
    {
      "cell_type": "markdown",
      "source": [
        "Plotting the adjusted closing price trend:"
      ],
      "metadata": {
        "id": "Wj9VMEcDZFTV"
      }
    },
    {
      "cell_type": "code",
      "source": [
        "ggplot(skx, aes(x = date)) +\n",
        "  geom_line(aes(y = adjusted, color = \"Adj Close\"), linetype = \"solid\") +\n",
        "  labs(title = \"The trend of SKX stock's adjusted closing price between 2020 and 2024\",\n",
        "       x = \"Timestamp\",\n",
        "       y = \"Adjusted Closing Price\") +\n",
        "  scale_color_manual(values = c(\"Adj Close\" = \"#630742\")) +\n",
        "  theme_minimal()"
      ],
      "metadata": {
        "id": "1uRJ3bYGYsJ3"
      },
      "execution_count": null,
      "outputs": []
    },
    {
      "cell_type": "code",
      "source": [
        "skx <- skx %>%\n",
        "  dplyr::select(date, adjusted) %>%\n",
        "  `colnames<-`(., c(\"Date\", \"Price\"))\n",
        "head(skx)"
      ],
      "metadata": {
        "id": "VTigljtoZIVU"
      },
      "execution_count": null,
      "outputs": []
    },
    {
      "cell_type": "markdown",
      "source": [
        "The next step is to check for any missing values in the dataset."
      ],
      "metadata": {
        "id": "2KsnX4qgZkMj"
      }
    },
    {
      "cell_type": "code",
      "source": [
        "any_na <- anyNA(skx)\n",
        "any_na"
      ],
      "metadata": {
        "id": "7y2wWXkYZdpT"
      },
      "execution_count": null,
      "outputs": []
    },
    {
      "cell_type": "markdown",
      "source": [
        "Since the value of any_na is FALSE, there are no missing values.\n",
        "\n",
        "However, there are missing days in the daily data because the stock market is closed on weekends. These dates do not appear in the dataset, so there won't be any NA values.\n",
        "\n",
        "Nevertheless, we cannot leave it like this. We need to add the weekend dates (to avoid gaps) and then fill in the values for those days using an appropriate method."
      ],
      "metadata": {
        "id": "5bEJ6ZtfaZSz"
      }
    },
    {
      "cell_type": "code",
      "source": [
        "full_date_sequence <- seq(min(skx$Date), max(skx$Date), by = \"days\")\n",
        "complete_dates <- tsibble(Date = full_date_sequence)\n",
        "skx <- merge(skx, complete_dates, by = \"Date\", all = TRUE)\n",
        "head(skx)"
      ],
      "metadata": {
        "id": "lhTsf66VaXMM"
      },
      "execution_count": null,
      "outputs": []
    },
    {
      "cell_type": "code",
      "source": [
        "any_na <- anyNA(skx)\n",
        "any_na"
      ],
      "metadata": {
        "id": "TMJ15-7Iar1U"
      },
      "execution_count": null,
      "outputs": []
    },
    {
      "cell_type": "markdown",
      "source": [
        "Now it is clear that there are missing values.\n",
        "\n",
        "On non-trading days, we will fill in the adjusted closing price with the last known value."
      ],
      "metadata": {
        "id": "VVN46Qwqa0O4"
      }
    },
    {
      "cell_type": "code",
      "source": [
        "skx <- skx %>% tidyr::fill(Price, .direction= \"down\")\n",
        "head(skx)"
      ],
      "metadata": {
        "id": "zkAg_M4zawqh"
      },
      "execution_count": null,
      "outputs": []
    },
    {
      "cell_type": "markdown",
      "source": [
        "Now, it needs to be converted back into a tsibble."
      ],
      "metadata": {
        "id": "EvsSkvsva_HJ"
      }
    },
    {
      "cell_type": "code",
      "source": [
        "skx <- skx %>%\n",
        "  as_tsibble(index = Date)\n",
        "head(skx)"
      ],
      "metadata": {
        "id": "C21sBVL6a85t"
      },
      "execution_count": null,
      "outputs": []
    },
    {
      "cell_type": "code",
      "source": [
        "anyNA(skx)"
      ],
      "metadata": {
        "id": "xBy1qp5NbA1s"
      },
      "execution_count": null,
      "outputs": []
    },
    {
      "cell_type": "code",
      "source": [
        "summary(skx)"
      ],
      "metadata": {
        "id": "Hs-XNTx8bCbw"
      },
      "execution_count": null,
      "outputs": []
    },
    {
      "cell_type": "markdown",
      "source": [
        "Here we can see the lagged values of the closing price: it shows how each data point relates to the previous data points (with different days represented by different colors)."
      ],
      "metadata": {
        "id": "4L3qx9X6iQBL"
      }
    },
    {
      "cell_type": "code",
      "source": [
        "skx %>% gg_lag(Price, geom = 'point')"
      ],
      "metadata": {
        "id": "wPnN0yCBbIN6"
      },
      "execution_count": null,
      "outputs": []
    },
    {
      "cell_type": "markdown",
      "source": [
        "Since we obtain a recognizable pattern and a linear trend regardless of the lag considered, we can conclude that there is autocorrelation among the time series values.\n",
        "\n",
        "A positive autocorrelation is observed, meaning that high values are generally followed by high values, and low values by low values."
      ],
      "metadata": {
        "id": "Y8npIjC_iXlf"
      }
    },
    {
      "cell_type": "markdown",
      "source": [
        "Next, we'll examine the trend line using the moving averages method.\n",
        "\n",
        "One version is the 5-MA, and the other is the 12-MA, where the numbers indicate how many of the most recent data points are averaged by the model.\n",
        "\n",
        "Both are examples of the Simple Moving Average (SMA)."
      ],
      "metadata": {
        "id": "zbc0_iRVidBw"
      }
    },
    {
      "cell_type": "code",
      "source": [
        "skx <- skx %>%\n",
        "  mutate(`5-MA` = slider::slide_dbl(Price, mean,\n",
        "                                    .before = 2, .after = 2, .complete = TRUE))"
      ],
      "metadata": {
        "id": "6HtmqH9tiUf7"
      },
      "execution_count": null,
      "outputs": []
    },
    {
      "cell_type": "code",
      "source": [
        "skx %>%\n",
        "  drop_na() %>%\n",
        "  autoplot(Price) +\n",
        "  geom_line(aes(y = `5-MA`), colour = '#D550BF') +\n",
        "  labs(title = \"The trend of SKX stock's adjusted closing price between 2020 and 2024 + 5-MA\", y = 'Adjusted Closing Price', x = '')"
      ],
      "metadata": {
        "id": "WI0Y-B_eilv8"
      },
      "execution_count": null,
      "outputs": []
    },
    {
      "cell_type": "code",
      "source": [
        "head(skx)"
      ],
      "metadata": {
        "id": "iAlmZsv3iomP"
      },
      "execution_count": null,
      "outputs": []
    },
    {
      "cell_type": "markdown",
      "source": [
        "The 5-day moving average shows a short-term smoothed trend, filtering out daily fluctuations, and is sensitive to short-term changes in the time series."
      ],
      "metadata": {
        "id": "pZ01ZDApi2fT"
      }
    },
    {
      "cell_type": "code",
      "source": [
        "skx <- skx %>%\n",
        "  mutate(`12-MA` = slider::slide_dbl(Price, mean,\n",
        "                                     .before = 5, .after = 6, .complete = TRUE))"
      ],
      "metadata": {
        "id": "h2RSI7mYiz7w"
      },
      "execution_count": null,
      "outputs": []
    },
    {
      "cell_type": "code",
      "source": [
        "skx %>%\n",
        "  drop_na() %>%\n",
        "  autoplot(Price) +\n",
        "  geom_line(aes(y = `12-MA`), colour = '#4BA68F') +\n",
        "  labs(title = \"The trend of SKX stock's adjusted closing price between 2020 and 2024 + 12-MA\", y = 'Adjusted Closing Price', x = '')"
      ],
      "metadata": {
        "id": "IX7hiszxi7wc"
      },
      "execution_count": null,
      "outputs": []
    },
    {
      "cell_type": "code",
      "source": [
        "head(skx)"
      ],
      "metadata": {
        "id": "m1QAtHp4jBuh"
      },
      "execution_count": null,
      "outputs": []
    },
    {
      "cell_type": "markdown",
      "source": [
        "The 12-day moving average shows a slightly longer-term smoothed trend compared to the 5-day moving average, representing a more sustainable trend."
      ],
      "metadata": {
        "id": "vOw6Crg3jJfC"
      }
    },
    {
      "cell_type": "code",
      "source": [
        "skx %>%\n",
        "  drop_na() %>%\n",
        "  autoplot(Price) +\n",
        "  geom_line(aes(y = `5-MA`, color = \"5-MA\"), linetype = \"solid\") +\n",
        "  geom_line(aes(y = `12-MA`, color = \"12-MA\"), linetype = \"solid\") +\n",
        "  labs(title = \"The trend of SKX stock's adjusted closing price between 2020 and 2024\", y = 'Adjusted Closing Price', x = '') +\n",
        "  scale_color_manual(values = c(\"5-MA\" = '#D550BF', \"12-MA\" = '#4BA68F'))"
      ],
      "metadata": {
        "id": "s3SC9Pu6jHJx"
      },
      "execution_count": null,
      "outputs": []
    },
    {
      "cell_type": "markdown",
      "source": [
        "We can see from the chart that the 5-MA and 12-MA move closely together, which suggests relative stability.\n",
        "\n",
        "The curves of the 12-MA are smoother, indicating a more stable trend."
      ],
      "metadata": {
        "id": "lgKNNlbxjWeh"
      }
    },
    {
      "cell_type": "markdown",
      "source": [
        "### **Forecasting with Exponential Smoothing**"
      ],
      "metadata": {
        "id": "JvWNiEPMjvsY"
      }
    },
    {
      "cell_type": "markdown",
      "source": [
        "The first method we can use to forecast the values of the time series is exponential smoothing.\n",
        "\n",
        "The ETS command selects the appropriate exponential smoothing model based on information criteria.\n",
        "\n",
        "We will initialize the model and then plot it."
      ],
      "metadata": {
        "id": "PzM7Rrr-ju0b"
      }
    },
    {
      "cell_type": "code",
      "source": [
        "expsim <- skx %>%\n",
        "  model(ETS(Price))"
      ],
      "metadata": {
        "id": "VL8VRtArjT7s"
      },
      "execution_count": null,
      "outputs": []
    },
    {
      "cell_type": "code",
      "source": [
        "components(expsim) %>%\n",
        "  autoplot() +\n",
        "  labs(title = 'ETS Components')"
      ],
      "metadata": {
        "id": "05YIUagAkJmo"
      },
      "execution_count": null,
      "outputs": []
    },
    {
      "cell_type": "code",
      "source": [
        "report(expsim)"
      ],
      "metadata": {
        "id": "zs52-8w3kPGz"
      },
      "execution_count": null,
      "outputs": []
    },
    {
      "cell_type": "markdown",
      "source": [
        "ETS(A,N,N) tells us that the model has an additive error term, and it does not account for trend or seasonality.\n",
        "\n",
        "An alpha value of 0.9343528 is high, indicating that the most recent observations are given significant weight.\n",
        "\n",
        "The AIC, AUCc, and BIC values provide a basis for model comparison; the smaller these values, the better the model."
      ],
      "metadata": {
        "id": "MWx53-eskTvv"
      }
    },
    {
      "cell_type": "markdown",
      "source": [
        "Key Statistics:"
      ],
      "metadata": {
        "id": "zdQzWjlqkdyq"
      }
    },
    {
      "cell_type": "code",
      "source": [
        "glance(expsim)"
      ],
      "metadata": {
        "id": "7lEjK0fwkRAK"
      },
      "execution_count": null,
      "outputs": []
    },
    {
      "cell_type": "markdown",
      "source": [
        "Examination of Errors:"
      ],
      "metadata": {
        "id": "GMH32Qbkknuo"
      }
    },
    {
      "cell_type": "code",
      "source": [
        "expsim %>% gg_tsresiduals()"
      ],
      "metadata": {
        "id": "02wH6zhWkfdj"
      },
      "execution_count": null,
      "outputs": []
    },
    {
      "cell_type": "markdown",
      "source": [
        "The distribution of the residuals is normal, with an outlier around the value of 0."
      ],
      "metadata": {
        "id": "qoqLe_F6krx3"
      }
    },
    {
      "cell_type": "markdown",
      "source": [
        "Generating and Plotting the Forecast:"
      ],
      "metadata": {
        "id": "rrG6V8MTktiD"
      }
    },
    {
      "cell_type": "code",
      "source": [
        "expsimf <- expsim %>%\n",
        "  forecast::forecast(h = 7)\n",
        "expsimf"
      ],
      "metadata": {
        "id": "KDBFHoRxkpTP"
      },
      "execution_count": null,
      "outputs": []
    },
    {
      "cell_type": "code",
      "source": [
        "expsimf %>%\n",
        "  filter(as.Date(Date, format = '%Y.%m.%d') >= as.Date('2023-01-01')) %>%\n",
        "  autoplot(skx) +\n",
        "  geom_line(aes(y = Price), color = '#630742') +\n",
        "  labs(title = \"The trend of SKX stock's adjusted closing price between 2020 and 2024\", y = 'Adjusted Closing Price', x = '')"
      ],
      "metadata": {
        "id": "vVwUYJLlkvyS"
      },
      "execution_count": null,
      "outputs": []
    },
    {
      "cell_type": "markdown",
      "source": [
        "### **Examination of Change Points and Structural Breaks**"
      ],
      "metadata": {
        "id": "0Q6JQax9lNv-"
      }
    },
    {
      "cell_type": "markdown",
      "source": [
        "The next task is to examine the change points and structural breaks.\n",
        "\n",
        "We need to determine if any changes occurred in the time series during the examined period."
      ],
      "metadata": {
        "id": "pCQuFqtPoB4Q"
      }
    },
    {
      "cell_type": "markdown",
      "source": [
        "First, we will examine changes in growth averages using the PELT method."
      ],
      "metadata": {
        "id": "PgYEnXKqoGWx"
      }
    },
    {
      "cell_type": "code",
      "source": [
        "m_skx <- skx %>%\n",
        "  dplyr::select(Date, Price) %>%\n",
        "  mutate(growth = 100 * ((Price / lag(Price)) - 1)) %>%\n",
        "  drop_na() %>%\n",
        "  pull(growth) %>%\n",
        "  cpt.mean(., penalty = 'SIC', method = 'PELT')"
      ],
      "metadata": {
        "id": "QFNbgdOtk58z"
      },
      "execution_count": null,
      "outputs": []
    },
    {
      "cell_type": "code",
      "source": [
        "plot(m_skx, type = 'l', col = '#4BA68F', cpt.col = '#630742', xlab = '', ylab = '', cpt.width = 1)"
      ],
      "metadata": {
        "id": "LRLVYOyAoKXx"
      },
      "execution_count": null,
      "outputs": []
    },
    {
      "cell_type": "code",
      "source": [
        "cpts(m_skx)"
      ],
      "metadata": {
        "id": "KBAHfT6aoMfS"
      },
      "execution_count": null,
      "outputs": []
    },
    {
      "cell_type": "code",
      "source": [
        "skx %>%\n",
        "  dplyr::select(Date, Price) %>%\n",
        "  mutate(growth = 100 * ((Price / lag(Price)) - 1)) %>%\n",
        "  drop_na() %>%\n",
        "  slice(cpts(m_skx))"
      ],
      "metadata": {
        "id": "vOPrRqr4oOlA"
      },
      "execution_count": null,
      "outputs": []
    },
    {
      "cell_type": "markdown",
      "source": [
        "In the case of a significant number of observations, changes in the average are detected, indicating that there are significant shifts in the growth pattern at many time points.\n",
        "\n",
        "Each of these change points represents a structural change in the time series."
      ],
      "metadata": {
        "id": "ddFa3kVSoeE0"
      }
    },
    {
      "cell_type": "markdown",
      "source": [
        "Next, we will identify the change points in variance."
      ],
      "metadata": {
        "id": "meWWzdk0oi2E"
      }
    },
    {
      "cell_type": "code",
      "source": [
        "v_skx <- skx %>%\n",
        "  dplyr::select(Date, Price) %>%\n",
        "  mutate(growth = 100 * ((Price / lag(Price)) - 1)) %>%\n",
        "  drop_na() %>%\n",
        "  pull(growth) %>%\n",
        "  cpt.var(., penalty = 'SIC', method = 'PELT')"
      ],
      "metadata": {
        "id": "GXXEzNhSoQjH"
      },
      "execution_count": null,
      "outputs": []
    },
    {
      "cell_type": "code",
      "source": [
        "plot(v_skx, type = 'l', col = '#4BA68F', cpt.col = '#630742', xlab = '', ylab = '', cpt.width = 1)"
      ],
      "metadata": {
        "id": "lxuAJ17Gokg_"
      },
      "execution_count": null,
      "outputs": []
    },
    {
      "cell_type": "code",
      "source": [
        "cpts(v_skx)"
      ],
      "metadata": {
        "id": "dA5CWxjEop4Z"
      },
      "execution_count": null,
      "outputs": []
    },
    {
      "cell_type": "code",
      "source": [
        "skx %>%\n",
        "  dplyr::select(Date, Price) %>%\n",
        "  mutate(growth = 100 * ((Price / lag(Price)) - 1)) %>%\n",
        "  drop_na() %>%\n",
        "  slice(cpts(v_skx))"
      ],
      "metadata": {
        "id": "SsuSjt8MoskQ"
      },
      "execution_count": null,
      "outputs": []
    },
    {
      "cell_type": "markdown",
      "source": [
        "In the case of variance, there are significantly fewer change points, indicating fewer structural changes."
      ],
      "metadata": {
        "id": "vSpCcLznov0Z"
      }
    },
    {
      "cell_type": "markdown",
      "source": [
        "Lastly, we will conduct a joint examination of both the mean and variance."
      ],
      "metadata": {
        "id": "Nir3wDxgoxm8"
      }
    },
    {
      "cell_type": "code",
      "source": [
        "mv_skx <- skx %>%\n",
        "  dplyr::select(Date, Price) %>%\n",
        "  mutate(growth = 100 * ((Price / lag(Price)) - 1)) %>%\n",
        "  drop_na() %>%\n",
        "  pull(growth) %>%\n",
        "  cpt.meanvar(., penalty = 'SIC', method = 'PELT')"
      ],
      "metadata": {
        "id": "RNUm7Ip8ot_L"
      },
      "execution_count": null,
      "outputs": []
    },
    {
      "cell_type": "code",
      "source": [
        "plot(mv_skx, type = 'l', col = '#4BA68F', cpt.col = '#630742', xlab = '', ylab = '', cpt.width = 1)"
      ],
      "metadata": {
        "id": "jZkkADByozgb"
      },
      "execution_count": null,
      "outputs": []
    },
    {
      "cell_type": "code",
      "source": [
        "cpts(mv_skx)"
      ],
      "metadata": {
        "id": "24dJJcqlo1Ss"
      },
      "execution_count": null,
      "outputs": []
    },
    {
      "cell_type": "code",
      "source": [
        "skx %>%\n",
        "  dplyr::select(Date, Price) %>%\n",
        "  mutate(growth = 100 * ((Price / lag(Price)) - 1)) %>%\n",
        "  drop_na() %>%\n",
        "  slice(cpts(mv_skx))"
      ],
      "metadata": {
        "id": "oZL36blso2xl"
      },
      "execution_count": null,
      "outputs": []
    },
    {
      "cell_type": "markdown",
      "source": [
        "The next step is to perform structural break tests, identifying instances where changes occur in the regression coefficients."
      ],
      "metadata": {
        "id": "lLXUXnvpo6MC"
      }
    },
    {
      "cell_type": "markdown",
      "source": [
        "Analysis of the structural breaks in the price trend using the Quandt Likelihood Ratio Test (QLR):"
      ],
      "metadata": {
        "id": "72-C8qqZo8Km"
      }
    },
    {
      "cell_type": "markdown",
      "source": [
        "*The QLR hypothesis framework:*\n",
        "\n",
        "H0: There is no structural break in the time series.\n",
        "\n",
        "H1: There is a structural break in the time series."
      ],
      "metadata": {
        "id": "p1gp2FWjq_S1"
      }
    },
    {
      "cell_type": "code",
      "source": [
        "price <- skx %>%\n",
        "  dplyr::select(Date, Price) %>%\n",
        "  mutate(growth = 100 * ((Price / lag(Price)) - 1), grow_lag = lag(growth)) %>%\n",
        "  drop_na()\n",
        "head(price)"
      ],
      "metadata": {
        "id": "O8gZLmEgo4JP"
      },
      "execution_count": null,
      "outputs": []
    },
    {
      "cell_type": "markdown",
      "source": [
        "Growth represents the value of growth, while grow_lag is its lagged value by one period."
      ],
      "metadata": {
        "id": "hnAlLve4pIRO"
      }
    },
    {
      "cell_type": "code",
      "source": [
        "price_qlr <- Fstats(growth ~ grow_lag, data = price)\n",
        "breakpoints(price_qlr)"
      ],
      "metadata": {
        "id": "VU9tc4gRo-T0"
      },
      "execution_count": null,
      "outputs": []
    },
    {
      "cell_type": "code",
      "source": [
        "skx %>%\n",
        "  dplyr::select(Date, Price) %>%\n",
        "  mutate(growth = 100 * ((Price / lag(Price)) - 1), grow_lag = lag(growth)) %>%\n",
        "  drop_na() %>%\n",
        "  slice(price_qlr$breakpoint)"
      ],
      "metadata": {
        "id": "B1c6UuPGpLuU"
      },
      "execution_count": null,
      "outputs": []
    },
    {
      "cell_type": "markdown",
      "source": [
        "A breakpoint occurs at observation 238."
      ],
      "metadata": {
        "id": "71K9_VxopSTL"
      }
    },
    {
      "cell_type": "code",
      "source": [
        "sctest(price_qlr, type = 'supF')"
      ],
      "metadata": {
        "id": "FBS-mjkmpNwV"
      },
      "execution_count": null,
      "outputs": []
    },
    {
      "cell_type": "markdown",
      "source": [
        "The p-value for the structural break is 0.9309, which is greater than the 0.05 significance level. Therefore, we cannot reject the null hypothesis, meaning we cannot prove that there is a structural break in the time series."
      ],
      "metadata": {
        "id": "XlQT0a5cpaEp"
      }
    },
    {
      "cell_type": "code",
      "source": [
        "plot(price_qlr)"
      ],
      "metadata": {
        "id": "KjIYi2YPpUN2"
      },
      "execution_count": null,
      "outputs": []
    },
    {
      "cell_type": "markdown",
      "source": [
        "We can see this on the chart as well; the values do not even approach the drawn red boundary line."
      ],
      "metadata": {
        "id": "niHGxAoJqkzG"
      }
    },
    {
      "cell_type": "markdown",
      "source": [
        "Analysis of the structural breaks in the price trend using the Bai and Perron structural break test (BP):"
      ],
      "metadata": {
        "id": "bPx2DE7gqnAg"
      }
    },
    {
      "cell_type": "code",
      "source": [
        "price_bp <- breakpoints(growth ~ grow_lag, data = price, breaks = 5)\n",
        "summary(price_bp)"
      ],
      "metadata": {
        "id": "4QHEJ385qiKD"
      },
      "execution_count": null,
      "outputs": []
    },
    {
      "cell_type": "code",
      "source": [
        "skx %>%\n",
        "  dplyr::select(Date, Price) %>%\n",
        "  mutate(growth = 100 * ((Price / lag(Price)) - 1), grow_lag = lag(growth)) %>%\n",
        "  drop_na() %>%\n",
        "  slice(price_bp$breakpoint)"
      ],
      "metadata": {
        "id": "lS26mtRqqprq"
      },
      "execution_count": null,
      "outputs": []
    },
    {
      "cell_type": "markdown",
      "source": [
        "By examining up to 5 breakpoints, we can see above the indices of the observations where breakpoints are detected."
      ],
      "metadata": {
        "id": "pagH1nPOqyCb"
      }
    },
    {
      "cell_type": "code",
      "source": [
        "plot(price_bp, breaks = 5)"
      ],
      "metadata": {
        "id": "J15qw7Byqu2B"
      },
      "execution_count": null,
      "outputs": []
    },
    {
      "cell_type": "markdown",
      "source": [
        "Since the BIC does not decrease at all (its minimum value is at 0), we can conclude that no structural break can be determined according to this test either."
      ],
      "metadata": {
        "id": "lrKZ3CuDq38U"
      }
    },
    {
      "cell_type": "markdown",
      "source": [
        "Analysis of the structural breaks in the price trend using the CUSUM test:"
      ],
      "metadata": {
        "id": "rs3givZprDm3"
      }
    },
    {
      "cell_type": "code",
      "source": [
        "price_cusum <- efp(growth ~ grow_lag, data = price, type = 'OLS-CUSUM')"
      ],
      "metadata": {
        "id": "2bfvd0-aq0KN"
      },
      "execution_count": null,
      "outputs": []
    },
    {
      "cell_type": "code",
      "source": [
        "skx %>%\n",
        "  dplyr::select(Date, Price) %>%\n",
        "  mutate(growth = 100 * ((Price / lag(Price)) - 1), grow_lag = lag(growth)) %>%\n",
        "  drop_na() %>%\n",
        "  slice(price_cusum$datastp)"
      ],
      "metadata": {
        "id": "TX6WQrAfrGBH"
      },
      "execution_count": null,
      "outputs": []
    },
    {
      "cell_type": "code",
      "source": [
        "plot(price_cusum)"
      ],
      "metadata": {
        "id": "QDAXWT_-rHcY"
      },
      "execution_count": null,
      "outputs": []
    },
    {
      "cell_type": "markdown",
      "source": [
        "According to the CUSUM test, there are no breaks in the data that exceed the critical values marked by the red lines, so this test also fails to identify any structural breaks."
      ],
      "metadata": {
        "id": "JCS3fdGprLIh"
      }
    },
    {
      "cell_type": "markdown",
      "source": [
        "### **Stationarity Analysis and Autocorrelation Testing**"
      ],
      "metadata": {
        "id": "ewXRFo7JrNUx"
      }
    },
    {
      "cell_type": "markdown",
      "source": [
        "Next, we will examine whether the time series is stationary or not."
      ],
      "metadata": {
        "id": "WD8XFvM4rSjc"
      }
    },
    {
      "cell_type": "code",
      "source": [
        "skx %>% gg_tsdisplay(Price)"
      ],
      "metadata": {
        "id": "sqTuU31XrI8N"
      },
      "execution_count": null,
      "outputs": []
    },
    {
      "cell_type": "markdown",
      "source": [
        "Analysis of ACF and PACF:"
      ],
      "metadata": {
        "id": "VX0To_bHrauo"
      }
    },
    {
      "cell_type": "code",
      "source": [
        "skx %>%\n",
        "  ACF(Price, lag_max = 20)"
      ],
      "metadata": {
        "id": "u64hzQiZrUOO"
      },
      "execution_count": null,
      "outputs": []
    },
    {
      "cell_type": "markdown",
      "source": [
        "High ACF values indicate strong autocorrelation and a strong dependence between different time points.\n",
        "\n",
        "Since the autocorrelations for the lags are large and positive, we can conclude that the data has a trend component."
      ],
      "metadata": {
        "id": "mIyESEZJrgC0"
      }
    },
    {
      "cell_type": "code",
      "source": [
        "p1 <- skx %>%\n",
        "  ACF(Price, lag_max = 20) %>% autoplot()\n",
        "\n",
        "p2 <- skx %>%\n",
        "  PACF(Price, lag_max = 20) %>% autoplot()\n",
        "\n",
        "grid.arrange(p1, p2, nrow = 1)\n",
        "\n",
        "skx %>%\n",
        "  plot_acf_diagnostics(Date, Price, .lags = 15, .interactive = F)"
      ],
      "metadata": {
        "id": "GRUcGxcvrd3u"
      },
      "execution_count": null,
      "outputs": []
    },
    {
      "cell_type": "markdown",
      "source": [
        "According to the ACF plot, autocorrelation decreases linearly as the number of lags increases, with observations that are temporally distant still being correlated with each other.\n",
        "\n",
        "In the PACF plot, the autocorrelation between observations is very strong at the first lag, but it suddenly drops for subsequent lags, indicating a significant initial effect that diminishes quickly."
      ],
      "metadata": {
        "id": "9HI8PG8Jr46a"
      }
    },
    {
      "cell_type": "markdown",
      "source": [
        "We test the values of the autocorrelation function using the Ljung-Box test developed by Ljung and Box."
      ],
      "metadata": {
        "id": "bfWXDub2r_mF"
      }
    },
    {
      "cell_type": "markdown",
      "source": [
        "*The hypothesis framework for the Ljung-Box test is:*\n",
        "\n",
        "H0: There is no autocorrelation in the time series.\n",
        "\n",
        "H1: There is autocorrelation in the time series."
      ],
      "metadata": {
        "id": "TRmudzn6sJli"
      }
    },
    {
      "cell_type": "code",
      "source": [
        "skx %>%\n",
        "  pull(Price) %>%\n",
        "  Box.test(lag = 12, type = 'Ljung-Box')"
      ],
      "metadata": {
        "id": "NaoizdNDrsPb"
      },
      "execution_count": null,
      "outputs": []
    },
    {
      "cell_type": "markdown",
      "source": [
        "The p-value is less than the 0.05 significance level, so we reject the null hypothesis, indicating that there is significant autocorrelation present."
      ],
      "metadata": {
        "id": "x2m-Dx3lsbdf"
      }
    },
    {
      "cell_type": "markdown",
      "source": [
        "Next, we will perform unit root tests to determine whether the time series is stationary or not (based on the plot and autocorrelation values, it is already possible that the series may be non-stationary)."
      ],
      "metadata": {
        "id": "qeoLhUYisuqe"
      }
    },
    {
      "cell_type": "markdown",
      "source": [
        "*The hypothesis framework for the ADF and PP unit root tests is:*\n",
        "\n",
        "H0: The time series is non-stationary.\n",
        "\n",
        "H1: The time series is stationary."
      ],
      "metadata": {
        "id": "wZXrAnKztkU9"
      }
    },
    {
      "cell_type": "markdown",
      "source": [
        "*The hypothesis framework for the KPSS unit root test is:*\n",
        "\n",
        "H0: The time series is stationary.\n",
        "\n",
        "H1: The time series is non-stationary."
      ],
      "metadata": {
        "id": "TW2HOtSouLS1"
      }
    },
    {
      "cell_type": "markdown",
      "source": [
        "Augmented Dickey-Fuller Test (ADF):"
      ],
      "metadata": {
        "id": "6gyOreCzuX2R"
      }
    },
    {
      "cell_type": "code",
      "source": [
        "skx %>%\n",
        "  pull(Price) %>%\n",
        "  aTSA::adf.test()"
      ],
      "metadata": {
        "id": "p2grMRZDsCrT"
      },
      "execution_count": null,
      "outputs": []
    },
    {
      "cell_type": "markdown",
      "source": [
        "The p-value is greater than 0.05, so we cannot reject the null hypothesis. Therefore, according to the ADF test, the time series is non-stationary and has a unit root."
      ],
      "metadata": {
        "id": "RZkThEJoucZG"
      }
    },
    {
      "cell_type": "markdown",
      "source": [
        "Phillips-Perron Test (PP):"
      ],
      "metadata": {
        "id": "uEzgxhuLuj5b"
      }
    },
    {
      "cell_type": "code",
      "source": [
        "skx %>%\n",
        "  pull(Price) %>%\n",
        "  aTSA::pp.test()"
      ],
      "metadata": {
        "id": "5cs7CACuuaL0"
      },
      "execution_count": null,
      "outputs": []
    },
    {
      "cell_type": "code",
      "source": [
        "skx %>%\n",
        "  features(Price, unitroot_pp)"
      ],
      "metadata": {
        "id": "kcotLdeOulZO"
      },
      "execution_count": null,
      "outputs": []
    },
    {
      "cell_type": "markdown",
      "source": [
        "The p-value is greater than 0.05, so we cannot reject the null hypothesis. Therefore, according to the PP test, the time series is non-stationary and has a unit root."
      ],
      "metadata": {
        "id": "aPg7BX96uo5l"
      }
    },
    {
      "cell_type": "markdown",
      "source": [
        "KPSS Test: For this test, the null and alternative hypotheses are reversed compared to other tests."
      ],
      "metadata": {
        "id": "jGXVVSj1utfd"
      }
    },
    {
      "cell_type": "code",
      "source": [
        "skx %>%\n",
        "  features(Price, unitroot_kpss)"
      ],
      "metadata": {
        "id": "j69-Unelum4b"
      },
      "execution_count": null,
      "outputs": []
    },
    {
      "cell_type": "markdown",
      "source": [
        "The p-value is less than 0.05, so we can reject the null hypothesis. Therefore, according to the KPSS test, the time series is non-stationary and has a unit root."
      ],
      "metadata": {
        "id": "PHFJuZ3tu2At"
      }
    },
    {
      "cell_type": "markdown",
      "source": [
        "There is also another test, the Zivot-Andrews test:\n",
        "\n"
      ],
      "metadata": {
        "id": "SWXK8qOlu7GO"
      }
    },
    {
      "cell_type": "code",
      "source": [
        "za_skx <- skx %>%\n",
        "  pull(Price) %>%\n",
        "  ur.za(., model = 'both', lag = 1)\n",
        "summary(za_skx)"
      ],
      "metadata": {
        "id": "NB2BT2uGuvF7"
      },
      "execution_count": null,
      "outputs": []
    },
    {
      "cell_type": "markdown",
      "source": [
        "The test statistic value is greater than the critical values, so we accept the null hypothesis. This means the time series is non-stationary and has a unit root."
      ],
      "metadata": {
        "id": "3jXIXRL2vQlL"
      }
    },
    {
      "cell_type": "markdown",
      "source": [
        "A potential breakpoint is indicated at observation 458, so we will examine that point."
      ],
      "metadata": {
        "id": "eaWRF81hvZ4Y"
      }
    },
    {
      "cell_type": "code",
      "source": [
        "skx %>% slice(458)"
      ],
      "metadata": {
        "id": "onXSFDHfvBAY"
      },
      "execution_count": null,
      "outputs": []
    },
    {
      "cell_type": "code",
      "source": [
        "plot(za_skx)"
      ],
      "metadata": {
        "id": "gyui4PPVvbdn"
      },
      "execution_count": null,
      "outputs": []
    },
    {
      "cell_type": "markdown",
      "source": [
        "According to all four conducted unit root tests, the time series is non-stationary.\n",
        "\n",
        "This implies that the time series needs to be transformed to achieve stationarity.\n",
        "\n",
        "One method to do this is by differencing the time series."
      ],
      "metadata": {
        "id": "hRIg_NL-vfMH"
      }
    },
    {
      "cell_type": "code",
      "source": [
        "skx %>%\n",
        "  features(Price, unitroot_ndiffs)"
      ],
      "metadata": {
        "id": "eg7IDMTOvc3U"
      },
      "execution_count": null,
      "outputs": []
    },
    {
      "cell_type": "markdown",
      "source": [
        "One differencing is required to make the time series stationary."
      ],
      "metadata": {
        "id": "-APAuaP0vnT7"
      }
    },
    {
      "cell_type": "code",
      "source": [
        "skx <- skx %>%\n",
        "  mutate(dif_price = difference(Price))\n",
        "head(skx)"
      ],
      "metadata": {
        "id": "yDf5Rup8vkPb"
      },
      "execution_count": null,
      "outputs": []
    },
    {
      "cell_type": "code",
      "source": [
        "a1 <- ggplot(skx, aes(x = Date, y = Price)) +\n",
        "  geom_line(color = 'deepskyblue') +\n",
        "  labs(title = \"The trend of SKX stock's adjusted closing price between 2020 and 2024\", y = 'Adjusted Closing Price', x = '')\n",
        "\n",
        "a2 <- ggplot(skx, aes(x = Date, y = dif_price)) +\n",
        "  geom_line(color = 'deepskyblue') +\n",
        "  labs(title = 'The trend of the differenced adjusted closing price of SKX stock between 2020 and 2024', y = 'Adjusted Closing Price', x = '')\n",
        "\n",
        "ggarrange(a1, a2, ncol = 1, nrow = 2)"
      ],
      "metadata": {
        "id": "lqSbMJa7vsaH"
      },
      "execution_count": null,
      "outputs": []
    },
    {
      "cell_type": "markdown",
      "source": [
        "Now that we have made the time series stationary, we need to perform the same tests as before to verify this."
      ],
      "metadata": {
        "id": "6vFjSdB2wQz5"
      }
    },
    {
      "cell_type": "markdown",
      "source": [
        "ACF and PACF:"
      ],
      "metadata": {
        "id": "17nZEJPuwa0Y"
      }
    },
    {
      "cell_type": "code",
      "source": [
        "skx %>%\n",
        "  gg_tsdisplay(dif_price)"
      ],
      "metadata": {
        "id": "vpLGGrkzvzHc"
      },
      "execution_count": null,
      "outputs": []
    },
    {
      "cell_type": "code",
      "source": [
        "p3 <- skx %>%\n",
        "  ACF(dif_price, lag_max = 20) %>%\n",
        "  autoplot()\n",
        "\n",
        "p4 <- skx %>%\n",
        "  PACF(dif_price, lag_max = 20) %>%\n",
        "  autoplot()\n",
        "\n",
        "grid.arrange(p3, p4, nrow = 1)\n",
        "\n",
        "skx %>%\n",
        "  plot_acf_diagnostics(Date, dif_price, .lags = 15, .interactive = F)"
      ],
      "metadata": {
        "id": "yM689PqkwclM"
      },
      "execution_count": null,
      "outputs": []
    },
    {
      "cell_type": "markdown",
      "source": [
        "Testing for Autocorrelation:"
      ],
      "metadata": {
        "id": "R3yUKHRJwpLo"
      }
    },
    {
      "cell_type": "code",
      "source": [
        "skx %>%\n",
        "  pull(dif_price) %>%\n",
        "  Box.test(lag = 12, type = 'Ljung-Box')"
      ],
      "metadata": {
        "id": "cBSOSwGQwiXw"
      },
      "execution_count": null,
      "outputs": []
    },
    {
      "cell_type": "markdown",
      "source": [
        "The p-value is greater than 0.05, so we retain the null hypothesis. There is no autocorrelation in the differenced time series."
      ],
      "metadata": {
        "id": "IzNU4S9qws5Z"
      }
    },
    {
      "cell_type": "markdown",
      "source": [
        "ADF Test:"
      ],
      "metadata": {
        "id": "SjzvsQr4w5yT"
      }
    },
    {
      "cell_type": "code",
      "source": [
        "skx %>%\n",
        "  pull(dif_price) %>%\n",
        "  aTSA::adf.test()"
      ],
      "metadata": {
        "id": "8spcTToawqpq"
      },
      "execution_count": null,
      "outputs": []
    },
    {
      "cell_type": "markdown",
      "source": [
        "The p-value is less than 0.05, so we can reject the null hypothesis. Therefore, the time series is stationary and no longer has a unit root."
      ],
      "metadata": {
        "id": "XBPEgGlTw8yV"
      }
    },
    {
      "cell_type": "markdown",
      "source": [
        "PP Test:"
      ],
      "metadata": {
        "id": "rfXA1I6bxAS9"
      }
    },
    {
      "cell_type": "code",
      "source": [
        "skx %>%\n",
        "  pull(dif_price) %>%\n",
        "  aTSA::pp.test()"
      ],
      "metadata": {
        "id": "W3htwADTw7Ug"
      },
      "execution_count": null,
      "outputs": []
    },
    {
      "cell_type": "code",
      "source": [
        "skx %>%\n",
        "  features(dif_price, unitroot_pp)"
      ],
      "metadata": {
        "id": "dMMbGrc5xCSI"
      },
      "execution_count": null,
      "outputs": []
    },
    {
      "cell_type": "markdown",
      "source": [
        "The p-value is less than 0.05, so we can reject the null hypothesis. This means the time series is stationary and no longer has a unit root."
      ],
      "metadata": {
        "id": "85tMHuT7xG1B"
      }
    },
    {
      "cell_type": "markdown",
      "source": [
        "KPSS Test:"
      ],
      "metadata": {
        "id": "fdeDWohbxKKE"
      }
    },
    {
      "cell_type": "code",
      "source": [
        "skx %>%\n",
        "  features(dif_price, unitroot_kpss)"
      ],
      "metadata": {
        "id": "DWUYwTNwxFMp"
      },
      "execution_count": null,
      "outputs": []
    },
    {
      "cell_type": "markdown",
      "source": [
        "The p-value is greater than 0.05, so we cannot reject the null hypothesis. Therefore, the time series is stationary and no longer has a unit root."
      ],
      "metadata": {
        "id": "XxZXImugxN0R"
      }
    },
    {
      "cell_type": "markdown",
      "source": [
        "ZA Test:"
      ],
      "metadata": {
        "id": "Y3HRsYaSxQ4l"
      }
    },
    {
      "cell_type": "code",
      "source": [
        "za_skx2 <- skx %>%\n",
        "  pull(dif_price) %>%\n",
        "  ur.za(., model = 'both', lag = 1)\n",
        "\n",
        "summary(za_skx2)"
      ],
      "metadata": {
        "id": "LfhFKTScxMRg"
      },
      "execution_count": null,
      "outputs": []
    },
    {
      "cell_type": "markdown",
      "source": [
        "The test statistic value is smaller than the critical values, so we reject the null hypothesis. Therefore, the time series is stationary and does not have a unit root."
      ],
      "metadata": {
        "id": "qqHzZlLDxYwM"
      }
    },
    {
      "cell_type": "markdown",
      "source": [
        "According to all four tests, our time series is now stationary.\n",
        "\n"
      ],
      "metadata": {
        "id": "ldKJT25gxcaE"
      }
    },
    {
      "cell_type": "markdown",
      "source": [
        "Next, we will test another forecasting method, starting with forecasting the price using a simple moving average."
      ],
      "metadata": {
        "id": "P5O2Lu1vxh6D"
      }
    },
    {
      "cell_type": "markdown",
      "source": [
        "### **Forecasting with Simple Moving Average**"
      ],
      "metadata": {
        "id": "UCWYgwDwyPZM"
      }
    },
    {
      "cell_type": "markdown",
      "source": [
        "Creating Training and Test Sets:"
      ],
      "metadata": {
        "id": "tSX7y6W8yWh2"
      }
    },
    {
      "cell_type": "code",
      "source": [
        "rate <- initial_time_split(skx, prop = 0.8)"
      ],
      "metadata": {
        "id": "B793bKJuxU6F"
      },
      "execution_count": null,
      "outputs": []
    },
    {
      "cell_type": "code",
      "source": [
        "train <- training(rate)\n",
        "dim(train)"
      ],
      "metadata": {
        "id": "Wa4cF6y8yauV"
      },
      "execution_count": null,
      "outputs": []
    },
    {
      "cell_type": "code",
      "source": [
        "test <- testing(rate)\n",
        "dim(test)"
      ],
      "metadata": {
        "id": "z_rhKTHByb9d"
      },
      "execution_count": null,
      "outputs": []
    },
    {
      "cell_type": "markdown",
      "source": [
        "Next, we will set up the moving average models whose results we wish to examine.\n",
        "\n",
        "We will use the ARIMA model; however, ARIMA(0,0,q) is equivalent to the MA(q) model."
      ],
      "metadata": {
        "id": "YAjGp4YRygMZ"
      }
    },
    {
      "cell_type": "code",
      "source": [
        "models_ma <- train %>%\n",
        "  model(ma = ARIMA(Price ~ pdq(p = 0, d = 0, q = 1:3)),\n",
        "        masearch = ARIMA(Price ~ pdq(p = 0, d = 0), stepwise = FALSE, approximation = FALSE))"
      ],
      "metadata": {
        "id": "1zfjq4BtydZ5"
      },
      "execution_count": null,
      "outputs": []
    },
    {
      "cell_type": "code",
      "source": [
        "glance(models_ma)"
      ],
      "metadata": {
        "id": "a_TyD0j1ym-t"
      },
      "execution_count": null,
      "outputs": []
    },
    {
      "cell_type": "code",
      "source": [
        "models_ma %>% select(ma) %>% report()"
      ],
      "metadata": {
        "id": "-iCUxFu6zLy4"
      },
      "execution_count": null,
      "outputs": []
    },
    {
      "cell_type": "code",
      "source": [
        "models_ma %>% select(masearch) %>% report()"
      ],
      "metadata": {
        "id": "_1xh-W_PzQrf"
      },
      "execution_count": null,
      "outputs": []
    },
    {
      "cell_type": "code",
      "source": [
        "models_ma %>% pivot_longer(everything(), names_to = 'Model name')"
      ],
      "metadata": {
        "id": "gKZzbeAn4vGE"
      },
      "execution_count": null,
      "outputs": []
    },
    {
      "cell_type": "code",
      "source": [
        "glance(models_ma) %>% arrange(AICc) %>% select(.model:BIC)"
      ],
      "metadata": {
        "id": "YtmVgu404cTL"
      },
      "execution_count": null,
      "outputs": []
    },
    {
      "cell_type": "code",
      "source": [
        "models_ma %>% select(ma) %>% coef()"
      ],
      "metadata": {
        "id": "zdDhO4_24n4v"
      },
      "execution_count": null,
      "outputs": []
    },
    {
      "cell_type": "markdown",
      "source": [
        "**The equation for MA(3) / SARIMA(0,0,3)(2,0,0)[7] is:**\n",
        "\n",
        "y(t)=ϵ(t)+0.9434⋅ϵ(t−1)+0.8267⋅ϵ(t−2)+0.4356⋅ϵ(t−3)+0.6035⋅y(t−7)+0.2495⋅y(t−14)+6.3013\n",
        "\n",
        "Where:\n",
        "\n",
        "- ϵ(t) represents the error term at time 𝑡,\n",
        "- ϵ(t−1), 𝜖(𝑡−2), and 𝜖(𝑡−3) are the lagged error terms,\n",
        "- y(t−7) and 𝑦(𝑡−14) represent the values of the series at lags 7 and 14 respectively,\n",
        "- 6.3013 is the constant term."
      ],
      "metadata": {
        "id": "TJJDJowW1iFa"
      }
    },
    {
      "cell_type": "code",
      "source": [
        "models_ma %>% select(masearch) %>% coef()"
      ],
      "metadata": {
        "id": "hkfDJxZ15Eyb"
      },
      "execution_count": null,
      "outputs": []
    },
    {
      "cell_type": "markdown",
      "source": [
        "**The equation for MA(4)[7] / SARIMA(0,0,4)(2,0,0)[7] is:**\n",
        "\n",
        "y(t)=ϵ(t)+0.9889⋅ϵ(t−1)+0.7911⋅ϵ(t−2)+0.6031⋅ϵ(t−3)+0.3237⋅ϵ(t−4)+0.5128⋅y(t−7)+0.3151⋅y(t−14)+7.3822\n",
        "\n",
        "Where:\n",
        "\n",
        "- ϵ(t) represents the error term at time 𝑡,\n",
        "- ϵ(t−1), 𝜖(𝑡−2), 𝜖(𝑡−3), and 𝜖(𝑡−4)are the lagged error terms,\n",
        "- y(t−7) and 𝑦(𝑡−14) represent the values of the series at lags 7 and 14 respectively,\n",
        "- 7.3822 is the constant term."
      ],
      "metadata": {
        "id": "KLCxt6Y11oXI"
      }
    },
    {
      "cell_type": "markdown",
      "source": [
        "Testing on the Test Dataset:"
      ],
      "metadata": {
        "id": "W3fUNAuZ8KuT"
      }
    },
    {
      "cell_type": "code",
      "source": [
        "models_ma %>%\n",
        "  fabletools::forecast(h=5) %>%\n",
        "  forecast::accuracy(test) %>%\n",
        "  dplyr::select(.model, RMSE:MAPE)"
      ],
      "metadata": {
        "id": "SupDvvufFTqX"
      },
      "execution_count": null,
      "outputs": []
    },
    {
      "cell_type": "markdown",
      "source": [
        "The model to choose is the one with the smallest errors (RMSE and MAPE), which is the masearch model, specifically the SARIMA(0,0,4)(2,0,0)[7] model."
      ],
      "metadata": {
        "id": "2ZgeiFYbHjHg"
      }
    },
    {
      "cell_type": "code",
      "source": [
        "model_final_ma <- skx %>%\n",
        "  model(ARIMA(Price ~ pdq(0,0,4) + PDQ(2,0,0)))"
      ],
      "metadata": {
        "id": "YxUvom1lGM_m"
      },
      "execution_count": null,
      "outputs": []
    },
    {
      "cell_type": "code",
      "source": [
        "report(model_final_ma) %>% coef()"
      ],
      "metadata": {
        "id": "mo-NucmYIdll"
      },
      "execution_count": null,
      "outputs": []
    },
    {
      "cell_type": "markdown",
      "source": [
        "*The final model equation is:*"
      ],
      "metadata": {
        "id": "e9BME8UFI8xQ"
      }
    },
    {
      "cell_type": "markdown",
      "source": [
        "**The equation for the MA(4)[7] / SARIMA(0,0,4)(2,0,0)[7] model is:**\n",
        "\n",
        "y(t)=ϵ(t)+0.9719⋅ϵ(t−1)+0.8021⋅ϵ(t−2)+0.5821⋅ϵ(t−3)+0.2987⋅ϵ(t−4)+0.5519⋅y(t−7)+0.3493⋅y(t−14)+4.4797\n",
        "\n",
        "Where:\n",
        "\n",
        "- ϵ(t) represents the error term at time 𝑡,\n",
        "- ϵ(t−1), 𝜖(𝑡−2), 𝜖(𝑡−3), and 𝜖(𝑡−4) are the lagged error terms,\n",
        "- y(t−7) and 𝑦(𝑡−14) represent the values of the series at lags 7 and 14 respectively,\n",
        "- 4.4797 is the constant term."
      ],
      "metadata": {
        "id": "DNf-oIseJAGj"
      }
    },
    {
      "cell_type": "markdown",
      "source": [
        "**Analysis of Residuals:**\n",
        "\n",
        "Hypothesis Testing:\n",
        "\n",
        "H0:The error term is white noise.\n",
        "\n",
        "H1: The error term is not white noise."
      ],
      "metadata": {
        "id": "bTJ5A9mPJqod"
      }
    },
    {
      "cell_type": "code",
      "source": [
        "model_final_ma %>%\n",
        "  gg_tsresiduals()"
      ],
      "metadata": {
        "id": "vg6IEt8dIq1i"
      },
      "execution_count": null,
      "outputs": []
    },
    {
      "cell_type": "markdown",
      "source": [
        "According to the null hypothesis, the residuals are white noise—ideally, we want the p-value to be greater than 0.05."
      ],
      "metadata": {
        "id": "esDzvXjnKAXT"
      }
    },
    {
      "cell_type": "code",
      "source": [
        "augment(model_final_ma) %>%\n",
        "  features(.resid, ljung_box, lag = 14, dof = 1)"
      ],
      "metadata": {
        "id": "cR6yQRl_JdWB"
      },
      "execution_count": null,
      "outputs": []
    },
    {
      "cell_type": "markdown",
      "source": [
        "The p-value < 0.05, so we reject the null hypothesis; the residuals are not white noise."
      ],
      "metadata": {
        "id": "OL9A5KNSKIj8"
      }
    },
    {
      "cell_type": "markdown",
      "source": [
        "**Forecasting:**"
      ],
      "metadata": {
        "id": "LVpvCjbZKNNc"
      }
    },
    {
      "cell_type": "code",
      "source": [
        "model_final_ma %>%\n",
        "  forecast::forecast() %>%\n",
        "  autoplot(skx) +\n",
        "  geom_line(aes(y = .fitted), col = 'deeppink', data = augment(model_final_ma)) +\n",
        "  labs(title = \"The trend of SKX stock's adjusted closing price between 2020 and 2024\", y = 'Adjusted Closing Price', x = '')"
      ],
      "metadata": {
        "id": "VCHmEbwwKFE2"
      },
      "execution_count": null,
      "outputs": []
    },
    {
      "cell_type": "code",
      "source": [
        "model_final_ma %>%\n",
        "  forecast::forecast(h=7)"
      ],
      "metadata": {
        "id": "NnDDCmb_ZhY3"
      },
      "execution_count": null,
      "outputs": []
    },
    {
      "cell_type": "markdown",
      "source": [
        "### **Forecasting with the ARIMA model**"
      ],
      "metadata": {
        "id": "VWTn6OsuLGMp"
      }
    },
    {
      "cell_type": "markdown",
      "source": [
        "Finally, we will also test using the ARIMA model."
      ],
      "metadata": {
        "id": "wuF6ZlY2LLV9"
      }
    },
    {
      "cell_type": "code",
      "source": [
        "models_arima <- train %>%\n",
        "  model(arimaauto = ARIMA(Price),\n",
        "        arima = ARIMA(Price ~ pdq(p = 0:3, d = 1, q = 0:3)),\n",
        "        arimasearch = ARIMA(Price ~ pdq(d = 1), stepwise = FALSE, approximation = FALSE))"
      ],
      "metadata": {
        "id": "z79SIPFyKZ0r"
      },
      "execution_count": null,
      "outputs": []
    },
    {
      "cell_type": "code",
      "source": [
        "glance(models_arima)"
      ],
      "metadata": {
        "id": "uVWWlpsfLN70"
      },
      "execution_count": null,
      "outputs": []
    },
    {
      "cell_type": "code",
      "source": [
        "models_arima %>% select(arimaauto) %>% report()"
      ],
      "metadata": {
        "id": "Hzh_puIlLPs8"
      },
      "execution_count": null,
      "outputs": []
    },
    {
      "cell_type": "code",
      "source": [
        "models_arima %>% select(arima) %>% report()"
      ],
      "metadata": {
        "id": "aKJNf3L0LzFS"
      },
      "execution_count": null,
      "outputs": []
    },
    {
      "cell_type": "code",
      "source": [
        "models_arima %>% select(arimasearch) %>% report()"
      ],
      "metadata": {
        "id": "ATukkb9qL024"
      },
      "execution_count": null,
      "outputs": []
    },
    {
      "cell_type": "code",
      "source": [
        "models_arima %>% pivot_longer(everything(), names_to = 'Model name')"
      ],
      "metadata": {
        "id": "pggnQOV1L3Hd"
      },
      "execution_count": null,
      "outputs": []
    },
    {
      "cell_type": "code",
      "source": [
        "glance(models_arima) %>% arrange(AICc) %>% select(.model:BIC)"
      ],
      "metadata": {
        "id": "15ouLaSOL-Sv"
      },
      "execution_count": null,
      "outputs": []
    },
    {
      "cell_type": "code",
      "source": [
        "models_arima %>% select(arimasearch) %>% coef()"
      ],
      "metadata": {
        "id": "mj6jq7jHMHH_"
      },
      "execution_count": null,
      "outputs": []
    },
    {
      "cell_type": "markdown",
      "source": [
        "**ARIMA(2,1,2) Equation:**\n",
        "\n",
        "Δy(t)=−0.5956⋅Δy(t−1)−0.9302⋅Δy(t−2)+ϵ(t)+0.5627⋅ϵ(t−1)+0.9047⋅ϵ(t−2)\n",
        "\n",
        "Where:\n",
        "\n",
        "- Δy(t) is the first difference of the series at time 𝑡.\n",
        "- ϵ(t) represents the white noise error term at time 𝑡."
      ],
      "metadata": {
        "id": "IBR73in6MZYU"
      }
    },
    {
      "cell_type": "code",
      "source": [
        "models_arima %>% select(arimaauto) %>% coef()"
      ],
      "metadata": {
        "id": "wXJH5z6sMM7q"
      },
      "execution_count": null,
      "outputs": []
    },
    {
      "cell_type": "code",
      "source": [
        "models_arima %>% select(arima) %>% coef()"
      ],
      "metadata": {
        "id": "3pxxvcMgMUBp"
      },
      "execution_count": null,
      "outputs": []
    },
    {
      "cell_type": "markdown",
      "source": [
        "**SARIMA(2,1,2)(1,0,1)[7] Equation:**\n",
        "\n",
        "Δy(t)=−0.6023⋅Δy(t−1)−0.9268⋅Δy(t−2)+ϵ(t)+0.5697⋅ϵ(t−1)+0.8974⋅ϵ(t−2)−0.7064⋅y(t−7)+0.6868⋅ϵ(t−7)\n",
        "\n",
        "Where:\n",
        "\n",
        "- Δy(t) is the first difference of the series at time 𝑡.\n",
        "- ϵ(t) represents the white noise error term at time 𝑡.\n",
        "- y(t−7) is the value of the series at lag 7.\n",
        "- ϵ(t−7) is the white noise error term at lag 7."
      ],
      "metadata": {
        "id": "8YUgqjXKMhXP"
      }
    },
    {
      "cell_type": "markdown",
      "source": [
        "Testing on the Test Dataset:"
      ],
      "metadata": {
        "id": "AUWFscDZWkh1"
      }
    },
    {
      "cell_type": "code",
      "source": [
        "models_arima %>%\n",
        "  fabletools::forecast(h=5) %>%\n",
        "  forecast::accuracy(test) %>%\n",
        "  dplyr::select(.model, RMSE:MAPE)"
      ],
      "metadata": {
        "id": "eS2-IedKMWq9"
      },
      "execution_count": null,
      "outputs": []
    },
    {
      "cell_type": "markdown",
      "source": [
        "The model to choose is the one with the smallest errors (RMSE: MAPE), which is the ARIMA/auto, the SARIMA(2,1,2)(1,0,1)[7] model."
      ],
      "metadata": {
        "id": "4rNmZYqkWzrI"
      }
    },
    {
      "cell_type": "code",
      "source": [
        "model_final_arima <- skx %>%\n",
        "  model(ARIMA(Price ~ pdq(2,1,2) + PDQ(1,0,1)))"
      ],
      "metadata": {
        "id": "Vh2KpV3mWugz"
      },
      "execution_count": null,
      "outputs": []
    },
    {
      "cell_type": "code",
      "source": [
        "report(model_final_arima) %>% coef()"
      ],
      "metadata": {
        "id": "PgGXm8NGXeW4"
      },
      "execution_count": null,
      "outputs": []
    },
    {
      "cell_type": "markdown",
      "source": [
        "*Final Model Equation:*"
      ],
      "metadata": {
        "id": "LQ6CTPh_XpcG"
      }
    },
    {
      "cell_type": "markdown",
      "source": [
        "**SARIMA(2,1,2)(1,0,1)[7] Equation:**\n",
        "\n",
        "Δy(t)=0.2754⋅Δy(t−1)+0.3455⋅Δy(t−2)+ϵ(t)−0.3402⋅ϵ(t−1)−0.3389⋅ϵ(t−2)+0.6985⋅y(t−7)−0.7181⋅ϵ(t−7)\n",
        "\n",
        "Where:\n",
        "\n",
        "- Δy(t) is the differenced value of the time series at time 𝑡.\n",
        "- Δy(t−1) and Δ𝑦(𝑡−2) are the differenced values of the time series at lag 1 and lag 2, respectively.\n",
        "- ϵ(t) is the white noise error term at time 𝑡.\n",
        "- ϵ(t−1) and ϵ(t−2) are the white noise error terms at lags 1 and 2, respectively.\n",
        "- y(t−7) is the value of the time series at lag 7.\n",
        "- ϵ(t−7) is the white noise error term at lag 7.\n"
      ],
      "metadata": {
        "id": "bZi15B0yXs5o"
      }
    },
    {
      "cell_type": "markdown",
      "source": [
        "**Analysis of Residuals:**\n",
        "\n",
        "Hypothesis Testing:\n",
        "\n",
        "H0:The error term is white noise.\n",
        "\n",
        "H1: The error term is not white noise."
      ],
      "metadata": {
        "id": "2u1FX5apYe4b"
      }
    },
    {
      "cell_type": "code",
      "source": [
        "model_final_arima %>%\n",
        "  gg_tsresiduals()"
      ],
      "metadata": {
        "id": "Ed-Ha6jfXmTr"
      },
      "execution_count": null,
      "outputs": []
    },
    {
      "cell_type": "markdown",
      "source": [
        "According to the null hypothesis, the residuals are white noise—we would want the p-value to be greater than 0.05."
      ],
      "metadata": {
        "id": "i0M-LWSXYm45"
      }
    },
    {
      "cell_type": "code",
      "source": [
        "augment(model_final_arima) %>%\n",
        "  features(.resid, ljung_box, lag = 14, dof = 1)"
      ],
      "metadata": {
        "id": "9niA06pYYisa"
      },
      "execution_count": null,
      "outputs": []
    },
    {
      "cell_type": "markdown",
      "source": [
        "The p-value is greater than 0.05, so we retain the null hypothesis. The residuals are white noise, meaning that a GARCH model is not needed."
      ],
      "metadata": {
        "id": "Syvz4b0hY11A"
      }
    },
    {
      "cell_type": "markdown",
      "source": [
        "**Forecasting:**"
      ],
      "metadata": {
        "id": "xETJD8AHZEmK"
      }
    },
    {
      "cell_type": "code",
      "source": [
        "model_final_arima %>%\n",
        "  forecast::forecast() %>%\n",
        "  autoplot(skx) +\n",
        "  geom_line(aes(y = .fitted), col = 'deeppink', data = augment(model_final_arima)) +\n",
        "  labs(title = 'The adjusted closing price trend of SKX stock from 2020 to 2024', y = 'Adjusted Closing Price', x = '')"
      ],
      "metadata": {
        "id": "EjVB0nuAYqWm"
      },
      "execution_count": null,
      "outputs": []
    },
    {
      "cell_type": "code",
      "source": [
        "model_final_arima %>%\n",
        "  forecast::forecast(h=7)"
      ],
      "metadata": {
        "id": "mrj3cflFZKBU"
      },
      "execution_count": null,
      "outputs": []
    },
    {
      "cell_type": "markdown",
      "source": [
        "### **Comparison of Models**"
      ],
      "metadata": {
        "id": "mDKqAX54aqVs"
      }
    },
    {
      "cell_type": "code",
      "source": [
        "skx %>%\n",
        "  model(ets = ETS(Price), arima = ARIMA(Price ~ pdq(2, 1, 2) + PDQ(1, 0, 1)), ma = ARIMA(Price ~ pdq(0, 0, 4) + PDQ(2, 0, 0))) %>%\n",
        "  forecast::accuracy()"
      ],
      "metadata": {
        "id": "O0blstpQZYYI"
      },
      "execution_count": null,
      "outputs": []
    },
    {
      "cell_type": "markdown",
      "source": [
        "Based on the table above, the ETS model appears to be the best model."
      ],
      "metadata": {
        "id": "ZOZxcl4AbqN3"
      }
    },
    {
      "cell_type": "markdown",
      "source": [
        "The final step is to compare the estimated values with the actual values."
      ],
      "metadata": {
        "id": "PSo1-5ttbvmQ"
      }
    },
    {
      "cell_type": "markdown",
      "source": [
        "*Exponential Smoothing*"
      ],
      "metadata": {
        "id": "k9rdJZZK4W2u"
      }
    },
    {
      "cell_type": "code",
      "source": [
        "expsimf"
      ],
      "metadata": {
        "id": "elapNwGLa-rW"
      },
      "execution_count": null,
      "outputs": []
    },
    {
      "cell_type": "markdown",
      "source": [
        "*Moving Average*"
      ],
      "metadata": {
        "id": "WZk4HWmW551S"
      }
    },
    {
      "cell_type": "code",
      "source": [
        "model_final_ma %>%\n",
        "  forecast::forecast(h=7)"
      ],
      "metadata": {
        "id": "fuzJnnnc4UOI"
      },
      "execution_count": null,
      "outputs": []
    },
    {
      "cell_type": "markdown",
      "source": [
        "*ARIMA*"
      ],
      "metadata": {
        "id": "Hw85TpWW58dz"
      }
    },
    {
      "cell_type": "code",
      "source": [
        "model_final_arima %>%\n",
        "  forecast::forecast(h=7)"
      ],
      "metadata": {
        "id": "UHOJ_uCw4w8k"
      },
      "execution_count": null,
      "outputs": []
    },
    {
      "cell_type": "markdown",
      "source": [
        "\n",
        "**Actual Values:**\n",
        "\n",
        "- February 12, 2024: 59.34\n",
        "- February 13, 2024: 59.06\n",
        "- February 14, 2024: 59.63\n",
        "- February 15, 2024: 60.33\n",
        "- February 16, 2024: 60.01"
      ],
      "metadata": {
        "id": "xbt-OtH549SK"
      }
    },
    {
      "cell_type": "markdown",
      "source": [
        "**Absolute Errors:**\n",
        "\n",
        "Exponential Smoothing:\n",
        "\n",
        "- February 12, 2024: 0.4948\n",
        "- February 13, 2024: 0.2148\n",
        "- February 14, 2024: 0.7848\n",
        "- February 15, 2024: 1.4848\n",
        "- February 16, 2024: 1.1648\n",
        "\n",
        "Moving Average:\n",
        "\n",
        "- February 12, 2024: 1.4483\n",
        "- February 13, 2024: 0.5939\n",
        "- February 14, 2024: 1.8494\n",
        "- February 15, 2024: 1.6364\n",
        "- February 16, 2024: 3.0890\n",
        "\n",
        "ARIMA:\n",
        "\n",
        "- February 12, 2024: 0.5023\n",
        "- February 13, 2024: 0.2032\n",
        "- February 14, 2024: 0.7353\n",
        "- February 15, 2024: 1.4890\n",
        "- February 16, 2024: 1.1070"
      ],
      "metadata": {
        "id": "daoIXHmS50R6"
      }
    },
    {
      "cell_type": "markdown",
      "source": [
        "It is clear that the moving average forecast performed the weakest, while exponential smoothing and ARIMA models performed similarly."
      ],
      "metadata": {
        "id": "GfMOQXUi-3jy"
      }
    },
    {
      "cell_type": "code",
      "source": [],
      "metadata": {
        "id": "Pl_lm8-SrnQE"
      },
      "execution_count": null,
      "outputs": []
    }
  ]
}